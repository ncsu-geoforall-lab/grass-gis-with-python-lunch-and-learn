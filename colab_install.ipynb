{
 "cells": [
  {
   "cell_type": "code",
   "execution_count": null,
   "metadata": {},
   "outputs": [],
   "source": [
    "%%bash\n",
    "# install dependencies\n",
    "apt install -y autoconf2.13 autotools-dev bison flex g++ gettext git imagemagick libblas-dev libbz2-dev libcairo2-dev libfftw3-dev libfreetype6-dev libgdal-dev libgeos-dev libglu1-mesa-dev libjpeg-dev liblapack-dev liblas-c-dev libncurses5-dev libnetcdf-dev libpng-dev libpq-dev libproj-dev libreadline-dev libsqlite3-dev libtiff-dev libxmu-dev libzstd-dev make netcdf-bin p7zip proj-bin sqlite3 unixodbc-dev xvfb zlib1g-dev\n",
    "\n",
    "pip install Pillow\n",
    "pip install ply\n",
    "pip install PyVirtualDisplay\n",
    "\n",
    "git clone --depth 1 --branch Jupyter-Timeseries https://github.com/chaedri/grass.git grass-src\n",
    "\n",
    "# enter the directory with source code\n",
    "cd grass-src\n",
    "\n",
    "# compile\n",
    "./configure \\\n",
    "    --enable-largefile=yes \\\n",
    "    --with-nls \\\n",
    "    --with-cxx \\\n",
    "    --with-readline \\\n",
    "    --with-bzlib \\\n",
    "    --with-pthread \\\n",
    "    --with-proj-share=/usr/share/proj \\\n",
    "    --with-geos=/usr/bin/geos-config \\\n",
    "    --with-cairo \\\n",
    "    --with-opengl-libs=/usr/include/GL \\\n",
    "    --with-freetype=yes --with-freetype-includes=\"/usr/include/freetype2/\" \\\n",
    "    --with-sqlite=yes\n",
    "make -j2\n",
    "make -j2 install\n",
    "\n",
    "# leave the directory with source code\n",
    "cd ..\n",
    "\n",
    "# download sample data\n",
    "mkdir -p grassdata\n",
    "wget http://fatra.cnr.ncsu.edu/foss4g2021/dsm.tif\n",
    "wget http://fatra.cnr.ncsu.edu/foss4g2021/ground.tif\n",
    "wget http://fatra.cnr.ncsu.edu/foss4g2021/ortho.tif\n",
    "wget http://fatra.cnr.ncsu.edu/foss4g2021/ortho.tif.aux.xml\n",
    "wget http://fatra.cnr.ncsu.edu/foss4g2021/roads_backup.geojson -O roads.geojson"
   ]
  }
 ],
 "metadata": {
  "kernelspec": {
   "display_name": "Python 3",
   "language": "python",
   "name": "python3"
  },
  "language_info": {
   "codemirror_mode": {
    "name": "ipython",
    "version": 3
   },
   "file_extension": ".py",
   "mimetype": "text/x-python",
   "name": "python",
   "nbconvert_exporter": "python",
   "pygments_lexer": "ipython3",
   "version": "3.8.10"
  }
 },
 "nbformat": 4,
 "nbformat_minor": 4
}
